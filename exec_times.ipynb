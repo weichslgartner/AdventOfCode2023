{
 "cells": [
  {
   "cell_type": "code",
   "execution_count": 1,
   "metadata": {},
   "outputs": [],
   "source": [
    "from typing import List\n",
    "import matplotlib.pyplot as plt \n",
    "import numpy as np\n",
    "plt.rcParams.update({'font.size': 16})\n",
    "#plt.style.use('seaborn-pastel')"
   ]
  },
  {
   "cell_type": "code",
   "execution_count": 2,
   "metadata": {
    "scrolled": true
   },
   "outputs": [],
   "source": [
    "!mkdir -p exec_times\n",
    "!./run_all_python.sh > exec_times/py11.txt 2>&1"
   ]
  },
  {
   "cell_type": "code",
   "execution_count": 3,
   "metadata": {
    "scrolled": true
   },
   "outputs": [],
   "source": [
    "!./run_all_rust.sh > exec_times/rust.txt 2>&1"
   ]
  },
  {
   "cell_type": "code",
   "execution_count": 4,
   "metadata": {},
   "outputs": [],
   "source": [
    "py311 = open(\"exec_times/py11.txt\",'r').read()\n",
    "rust = open(\"exec_times/rust.txt\",'r').read()"
   ]
  },
  {
   "cell_type": "code",
   "execution_count": 5,
   "metadata": {},
   "outputs": [],
   "source": [
    "def to_list(build_output : str) -> List[str]:\n",
    "    perf = []\n",
    "    for line in build_output.split('\\n'):\n",
    "        if line.startswith('real'):\n",
    "            print(line)\n",
    "            perf.append( float(line.split()[1][2:-1].replace(',','.')))\n",
    "    return perf"
   ]
  },
  {
   "cell_type": "code",
   "execution_count": 6,
   "metadata": {},
   "outputs": [
    {
     "ename": "NameError",
     "evalue": "name 'py311' is not defined",
     "output_type": "error",
     "traceback": [
      "\u001b[0;31m---------------------------------------------------------------------------\u001b[0m",
      "\u001b[0;31mNameError\u001b[0m                                 Traceback (most recent call last)",
      "Cell \u001b[0;32mIn[6], line 1\u001b[0m\n\u001b[0;32m----> 1\u001b[0m py310 \u001b[38;5;241m=\u001b[39m to_list(\u001b[43mpy311\u001b[49m)\n",
      "\u001b[0;31mNameError\u001b[0m: name 'py311' is not defined"
     ]
    }
   ],
   "source": [
    "py311 = to_list(py311)\n"
   ]
  },
  {
   "cell_type": "code",
   "execution_count": null,
   "metadata": {},
   "outputs": [],
   "source": [
    "rust = to_list(rust)"
   ]
  },
  {
   "cell_type": "code",
   "execution_count": null,
   "metadata": {},
   "outputs": [],
   "source": [
    "py311, rust"
   ]
  },
  {
   "cell_type": "code",
   "execution_count": null,
   "metadata": {},
   "outputs": [],
   "source": [
    "days = np.arange(1,len(py311)+1)"
   ]
  },
  {
   "cell_type": "code",
   "execution_count": null,
   "metadata": {},
   "outputs": [],
   "source": [
    "width = 0.15\n",
    "fig, ax = plt.subplots()\n",
    "fig.set_size_inches(17, 9)\n",
    "ax.set_title(\"Execution Time of Advent of Code 2023 Python & Rust Solutions (Both Parts)\")\n",
    "rects2 = ax.bar(days - width/2, py311, width, label='Python 3.10')\n",
    "rects3 = ax.bar(days + width/2, rust, width, label='Rust')\n",
    "ax.set_xticks(days)\n",
    "ax.set_ylabel('Execution Time [s]')\n",
    "ax.set_xlabel('Day')\n",
    "ax.legend()"
   ]
  },
  {
   "cell_type": "code",
   "execution_count": null,
   "metadata": {},
   "outputs": [],
   "source": [
    "plt.plot(np.cumsum(py311), label=\"py 3.11\")\n",
    "plt.plot(np.cumsum(rust), label=\"Rust\")\n",
    "plt.legend(loc=\"upper left\")\n",
    "plt.ylabel('Execution Time [s]')\n",
    "plt.xlabel('Day')"
   ]
  },
  {
   "cell_type": "code",
   "execution_count": null,
   "metadata": {},
   "outputs": [],
   "source": []
  }
 ],
 "metadata": {
  "kernelspec": {
   "display_name": "Python [conda env:ml]",
   "language": "python",
   "name": "conda-env-ml-py"
  },
  "language_info": {
   "codemirror_mode": {
    "name": "ipython",
    "version": 3
   },
   "file_extension": ".py",
   "mimetype": "text/x-python",
   "name": "python",
   "nbconvert_exporter": "python",
   "pygments_lexer": "ipython3",
   "version": "3.11.6"
  }
 },
 "nbformat": 4,
 "nbformat_minor": 4
}
